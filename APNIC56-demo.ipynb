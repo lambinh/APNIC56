{
 "cells": [
  {
   "cell_type": "code",
   "execution_count": null,
   "id": "751f09f1",
   "metadata": {
    "scrolled": true
   },
   "outputs": [],
   "source": [
    "print(\"Welcome APNIC56 to the Shodan CLI live demo!\")"
   ]
  },
  {
   "cell_type": "code",
   "execution_count": null,
   "id": "d6c7ff0e",
   "metadata": {},
   "outputs": [],
   "source": [
    "!shodan myip"
   ]
  },
  {
   "cell_type": "code",
   "execution_count": null,
   "id": "3a7a8620",
   "metadata": {},
   "outputs": [],
   "source": [
    "#* Count number of Telnet 23 Open, Country: Japan (JP) | Bangladesh (BD) | India (ID) | Vietnamm (VN)\n",
    "!shodan count port:\"23\" country:JP"
   ]
  },
  {
   "cell_type": "code",
   "execution_count": null,
   "id": "bc9052e5",
   "metadata": {},
   "outputs": [],
   "source": [
    "!shodan search --fields ip_str,port,org,hostnames \"port:23 Country:TW\""
   ]
  },
  {
   "cell_type": "code",
   "execution_count": null,
   "id": "c4dcb7d5",
   "metadata": {},
   "outputs": [],
   "source": [
    "!shodan search --fields ip_str,port,org,hostnames \"has_ipv6:true port:23\""
   ]
  },
  {
   "cell_type": "code",
   "execution_count": null,
   "id": "ebbf2e69",
   "metadata": {},
   "outputs": [],
   "source": [
    "!shodan search --fields ip_str,port,org,hostnames \"has_ipv6:true port:22 country:\"JP\"\""
   ]
  },
  {
   "cell_type": "code",
   "execution_count": null,
   "id": "c96f5c2f",
   "metadata": {},
   "outputs": [],
   "source": [
    "!shodan search --fields ip_str,port,org,hostnames \"port:22 Country:BD OpenSSH\""
   ]
  },
  {
   "cell_type": "code",
   "execution_count": null,
   "id": "380ee636",
   "metadata": {},
   "outputs": [],
   "source": [
    "!shodan search --fields ip_str,port,org,hostnames \"asn:\"AS-NUMBER\" port:179\""
   ]
  },
  {
   "cell_type": "code",
   "execution_count": null,
   "id": "75aa74c4",
   "metadata": {},
   "outputs": [],
   "source": [
    "!shodan search --fields ip_str,port,org,hostnames \"BGP Identifer: <IP-ADDRESS>\""
   ]
  },
  {
   "cell_type": "code",
   "execution_count": null,
   "id": "a309636b",
   "metadata": {},
   "outputs": [],
   "source": [
    "!shodan search --fields ip_str,port,org,hostnames \"asn:\"AS-NUMBER\" port:4001\""
   ]
  },
  {
   "cell_type": "code",
   "execution_count": null,
   "id": "fe6a2b23",
   "metadata": {},
   "outputs": [],
   "source": [
    "!shodan search --fields ip_str,port,org,hostnames net:<NETWORK-ADDRESS>"
   ]
  },
  {
   "cell_type": "code",
   "execution_count": null,
   "id": "f7107e69",
   "metadata": {},
   "outputs": [],
   "source": [
    "!shodan stats --facets vuln net:<NETWORK-ADDRESS>"
   ]
  },
  {
   "cell_type": "code",
   "execution_count": null,
   "id": "34e531bf",
   "metadata": {},
   "outputs": [],
   "source": [
    "!shodan domain <domain-name>"
   ]
  },
  {
   "cell_type": "code",
   "execution_count": null,
   "id": "da28321c",
   "metadata": {},
   "outputs": [],
   "source": [
    "# search MongoDB with authentication - vuln\n",
    "#!shodan search --fields ip_str,port,org,hostnames port:27017 \"authentication\"\n",
    "!shodan search --fields ip_str port:27017 \"authentication\" >hosts.txt"
   ]
  },
  {
   "cell_type": "code",
   "execution_count": null,
   "id": "329fd307",
   "metadata": {},
   "outputs": [],
   "source": [
    "# search for a list of IP with open port 23 country:JP (two digits country code)\n",
    "!shodan search --fields ip_str \"port:23 country:JP\" >hosts.txt"
   ]
  },
  {
   "cell_type": "code",
   "execution_count": null,
   "id": "b6f966e3",
   "metadata": {},
   "outputs": [],
   "source": [
    "!python shodan_IPDB.py hosts.txt"
   ]
  },
  {
   "cell_type": "code",
   "execution_count": null,
   "id": "86f6c02c",
   "metadata": {},
   "outputs": [],
   "source": [
    "import pandas as pd\n",
    "df = pd.read_csv('output.csv')\n",
    "df.head(50)"
   ]
  },
  {
   "cell_type": "code",
   "execution_count": null,
   "id": "62cb27c3",
   "metadata": {},
   "outputs": [],
   "source": [
    "!shodan host 136.144.138.128"
   ]
  },
  {
   "cell_type": "code",
   "execution_count": null,
   "id": "04a87484",
   "metadata": {},
   "outputs": [],
   "source": [
    "## End of Demo ##"
   ]
  }
 ],
 "metadata": {
  "kernelspec": {
   "display_name": "Python 3 (ipykernel)",
   "language": "python",
   "name": "python3"
  },
  "language_info": {
   "codemirror_mode": {
    "name": "ipython",
    "version": 3
   },
   "file_extension": ".py",
   "mimetype": "text/x-python",
   "name": "python",
   "nbconvert_exporter": "python",
   "pygments_lexer": "ipython3",
   "version": "3.9.12"
  }
 },
 "nbformat": 4,
 "nbformat_minor": 5
}
